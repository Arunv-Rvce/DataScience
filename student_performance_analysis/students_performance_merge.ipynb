{
 "cells": [
  {
   "cell_type": "code",
   "execution_count": 1,
   "metadata": {
    "collapsed": true
   },
   "outputs": [],
   "source": [
    "# Libraries \n",
    "from pyspark import SparkConf, SparkContext, SQLContext\n",
    "from pyspark.sql.types import StructType, StructField, StringType, IntegerType, DoubleType\n",
    "from hashlib import md5"
   ]
  },
  {
   "cell_type": "code",
   "execution_count": 2,
   "metadata": {
    "collapsed": true
   },
   "outputs": [],
   "source": [
    "conf = SparkConf()\n",
    "sc = SparkContext()"
   ]
  },
  {
   "cell_type": "code",
   "execution_count": 3,
   "metadata": {
    "collapsed": true
   },
   "outputs": [],
   "source": [
    "# Extracting the data\n",
    "mat_performance = SQLContext(sc).read.csv('student-mat.csv', sep=';', header=True)\n",
    "por_performance = SQLContext(sc).read.csv('student-por.csv', sep=';', header=True)"
   ]
  },
  {
   "cell_type": "code",
   "execution_count": 4,
   "metadata": {
    "collapsed": true
   },
   "outputs": [],
   "source": [
    "# Map functions\n",
    "def generate_key_mat(row):\n",
    "    data = row['school'] + \" \" + row['sex'] +  \" \" + row['age'] + \" \" + row['address'] + \" \" + row['famsize'] + \" \" + row['Pstatus'] + \" \" + row['Medu'] + \" \" + row['Fedu'] + \" \" + row['Mjob'] + \" \" + row['Fjob'] + \" \" + row['guardian'] + \" \" + row['traveltime'] + \" \" + row['freetime'] + \" \" + row['goout'] + \" \" + row['famrel'] + \" \" + row['Dalc'] + \" \" + row['Walc']  \n",
    "    key = md5(data.encode('utf-8')).hexdigest() # Unique Key For Mapping\n",
    "    row1 = {}\n",
    "    row1['M_G1'] = float(row['G1'])\n",
    "    row1['M_G2'] = float(row['G2'])\n",
    "    row1['M_G3'] = float(row['G3'])\n",
    "    row1['M_studytime'] = float(row['studytime'])\n",
    "    row1['M_failures'] = float(row['failures'])\n",
    "    row1['M_paid'] = row['paid']\n",
    "    return (key, row1)\n",
    "\n",
    "def generate_key_por(row):\n",
    "    data = row['school'] + \" \" + row['sex'] +  \" \" + row['age'] + \" \" + row['address'] + \" \" + row['famsize'] + \" \" + row['Pstatus'] + \" \" + row['Medu'] + \" \" + row['Fedu'] + \" \" + row['Mjob'] + \" \" + row['Fjob'] + \" \" + row['guardian'] + \" \" + row['traveltime'] + \" \" + row['freetime'] + \" \" + row['goout'] + \" \" + row['famrel'] + \" \" + row['Dalc'] + \" \" + row['Walc']  \n",
    "    key = md5(data.encode('utf-8')).hexdigest() # Unique Key For Mapping\n",
    "    row['P_G1'] = float(row['G1'])\n",
    "    row['P_G2'] = float(row['G2'])\n",
    "    row['P_G3'] = float(row['G3'])\n",
    "    row['P_studytime'] = float(row['studytime'])\n",
    "    row['P_failures'] = float(row['failures'])\n",
    "    row['P_paid'] = row['paid']\n",
    "    row['traveltime'] = int(row['traveltime'])\n",
    "    row['absences'] = int(row['absences'])\n",
    "    row.pop('studytime')\n",
    "    row.pop('failures')\n",
    "    row.pop('paid')\n",
    "    row.pop('G1')\n",
    "    row.pop('G2')\n",
    "    row.pop('G3')\n",
    "    return (key, row)\n",
    "\n",
    "def combine_mat_por_data(row):\n",
    "    row1 = {}\n",
    "    row1.update(row[1][0])\n",
    "    row1.update(row[1][1])\n",
    "    return row1"
   ]
  },
  {
   "cell_type": "code",
   "execution_count": 5,
   "metadata": {
    "collapsed": true
   },
   "outputs": [],
   "source": [
    "mat_performance_rdd = mat_performance.rdd.map(lambda row: row.asDict(recursive=True)).map(generate_key_por)\n",
    "por_performance_rdd = por_performance.rdd.map(lambda row: row.asDict(recursive=True)).map(generate_key_mat)\n",
    "\n",
    "combined_data = por_performance_rdd.join(mat_performance_rdd).map(combine_mat_por_data)"
   ]
  },
  {
   "cell_type": "code",
   "execution_count": 6,
   "metadata": {
    "collapsed": true
   },
   "outputs": [],
   "source": [
    "students_db_schema = StructType([\n",
    "    StructField('school', StringType(), True),\n",
    "    StructField('sex', StringType(), True),\n",
    "    StructField('address', StringType(), True),\n",
    "    StructField('famsize', StringType(),True),\n",
    "    StructField('Pstatus', StringType(), True),\n",
    "    StructField('Medu', StringType(), True),\n",
    "    StructField('Fedu', StringType(), True),\n",
    "    StructField('Mjob', StringType(), True),\n",
    "    StructField('Fjob', StringType(), True),\n",
    "    StructField('reason', StringType(), True),\n",
    "    StructField('guardian', StringType(), True),\n",
    "    StructField('traveltime', IntegerType(), True),\n",
    "    StructField('higher', StringType(), True),\n",
    "    StructField('internet', StringType(), True),\n",
    "    StructField('famrel', StringType(), True),\n",
    "    StructField('freetime',StringType(), True),\n",
    "    StructField('goout', StringType(), True),\n",
    "    StructField('Dalc', StringType(), True),\n",
    "    StructField('Walc', StringType(), True),\n",
    "    StructField('health', StringType(), True),\n",
    "    StructField('absences', IntegerType(), True),\n",
    "    StructField('M_studytime', DoubleType(), True),\n",
    "    StructField('M_failures', DoubleType(), True),\n",
    "    StructField('M_paid', StringType(), True),\n",
    "    StructField('M_G1', DoubleType(), True),\n",
    "    StructField('M_G2', DoubleType(), True),\n",
    "    StructField('M_G3', DoubleType(), True),\n",
    "    StructField('P_studytime', DoubleType(), True),\n",
    "    StructField('P_failures', DoubleType(), True),\n",
    "    StructField('P_paid', StringType(), True),\n",
    "    StructField('P_G1', DoubleType(), True),\n",
    "    StructField('P_G2', DoubleType(), True),\n",
    "    StructField('P_G3', DoubleType(), True),\n",
    "    \n",
    "])"
   ]
  },
  {
   "cell_type": "code",
   "execution_count": 7,
   "metadata": {
    "collapsed": true
   },
   "outputs": [],
   "source": [
    "combined_mat_por_df = SQLContext(sc).createDataFrame(combined_data, students_db_schema)\n",
    "combined_mat_por_df.coalesce(1).write.csv('students_combined_data', sep=\";\", header=True)"
   ]
  },
  {
   "cell_type": "code",
   "execution_count": null,
   "metadata": {
    "collapsed": true
   },
   "outputs": [],
   "source": [
    "# Alternate way to store to csv\n",
    "'''records = combined_mat_por_df.rdd.collect()\n",
    "field_names  = ['school', 'sex', 'address', 'famsize', 'Pstatus','Medu', 'Fedu', 'Mjob', 'Fjob', 'reason', 'guardian', 'traveltime', 'higher', 'internet', 'famrel', 'goout', 'Dalc', 'Walc', 'health', 'absences', 'M_studytime', 'M_failures', 'M_paid','M_G1', 'M_G2', 'M_G3', 'P_studytime', 'P_failures', 'P_paid', 'P_G1', 'P_G2', 'P_G3']\n",
    "import csv\n",
    "with open('students_combined_data.csv', 'w') as csv_file:\n",
    "    writer = csv.DictWriter(csv_file, fieldnames=field_names, delimiter=';')\n",
    "    writer.writeheader()\n",
    "    for row in records:\n",
    "        row_data = {}\n",
    "        for name in field_names:\n",
    "            row_data[name] = row[name]\n",
    "        writer.writerow(row_data)'''"
   ]
  }
 ],
 "metadata": {
  "kernelspec": {
   "display_name": "Python 3",
   "language": "python",
   "name": "python3"
  },
  "language_info": {
   "codemirror_mode": {
    "name": "ipython",
    "version": 3
   },
   "file_extension": ".py",
   "mimetype": "text/x-python",
   "name": "python",
   "nbconvert_exporter": "python",
   "pygments_lexer": "ipython3",
   "version": "3.6.1"
  }
 },
 "nbformat": 4,
 "nbformat_minor": 2
}
