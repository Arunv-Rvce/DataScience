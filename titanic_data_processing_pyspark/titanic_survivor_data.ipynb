{
 "cells": [
  {
   "cell_type": "code",
   "execution_count": 1,
   "metadata": {
    "collapsed": true
   },
   "outputs": [],
   "source": [
    "from pyspark.sql import SQLContext, SparkSession\n",
    "from pyspark import SparkConf, SparkContext\n",
    "from pyspark.sql.types import StructType, StructField, StringType, IntegerType, DoubleType"
   ]
  },
  {
   "cell_type": "code",
   "execution_count": 2,
   "metadata": {},
   "outputs": [],
   "source": [
    "conf = SparkConf()\n",
    "sc = SparkContext()\n",
    "sqlcontext = SQLContext(sc)"
   ]
  },
  {
   "cell_type": "code",
   "execution_count": 3,
   "metadata": {
    "collapsed": true
   },
   "outputs": [],
   "source": [
    "from pathlib import Path\n",
    "import os"
   ]
  },
  {
   "cell_type": "code",
   "execution_count": 4,
   "metadata": {
    "collapsed": true
   },
   "outputs": [],
   "source": [
    "SURVIVOR_CSV_DATA = 'titanic_result.csv'"
   ]
  },
  {
   "cell_type": "code",
   "execution_count": 5,
   "metadata": {
    "collapsed": true
   },
   "outputs": [],
   "source": [
    "# RESULT OF PEOPLE SURVIVED IN TITANIC CLASH\n",
    "survivor_data_df = sqlcontext.read.csv(SURVIVOR_CSV_DATA, sep=\",\", header=True)"
   ]
  },
  {
   "cell_type": "code",
   "execution_count": 6,
   "metadata": {
    "collapsed": true
   },
   "outputs": [],
   "source": [
    "ACTUAL_TRAVELLER_DATA = 'titanic_data.csv'"
   ]
  },
  {
   "cell_type": "code",
   "execution_count": 7,
   "metadata": {
    "collapsed": true
   },
   "outputs": [],
   "source": [
    "# ACTUAL LIST OF PEOPLE SURVIVED IN TITANIC CLASH\n",
    "actual_data_df = sqlcontext.read.csv(ACTUAL_TRAVELLER_DATA, sep=\",\", header=True)"
   ]
  },
  {
   "cell_type": "code",
   "execution_count": 8,
   "metadata": {
    "collapsed": true
   },
   "outputs": [],
   "source": [
    "# filter survived data\n",
    "survivor_data = survivor_data_df.filter(survivor_data_df.Survived == '1').rdd\n",
    "survivor_filtered_df = survivor_data.toDF()"
   ]
  },
  {
   "cell_type": "code",
   "execution_count": 9,
   "metadata": {
    "collapsed": true
   },
   "outputs": [],
   "source": [
    "# List of survived passengers\n",
    "survivor_flag = survivor_data.collectAsMap()"
   ]
  },
  {
   "cell_type": "code",
   "execution_count": 10,
   "metadata": {
    "collapsed": true
   },
   "outputs": [],
   "source": [
    "def survior_data_filter(row):\n",
    "    if row['PassengerId'] in survivor_flag:\n",
    "        return row"
   ]
  },
  {
   "cell_type": "code",
   "execution_count": 11,
   "metadata": {
    "collapsed": true
   },
   "outputs": [],
   "source": [
    "filtered_data = actual_data_df.rdd.map(survior_data_filter)"
   ]
  },
  {
   "cell_type": "code",
   "execution_count": 14,
   "metadata": {},
   "outputs": [
    {
     "name": "stdout",
     "output_type": "stream",
     "text": [
      "Row(PassengerId='893', Pclass='3', Name='Wilkes, Mrs. James (Ellen Needs)', Sex='female', Age='47', SibSp='1', Parch='0', Ticket='363272', Fare='7', Cabin=None, Embarked='S')\n",
      "Row(PassengerId='896', Pclass='3', Name='Hirvonen, Mrs. Alexander (Helga E Lindqvist)', Sex='female', Age='22', SibSp='1', Parch='1', Ticket='3101298', Fare='12.2875', Cabin=None, Embarked='S')\n",
      "Row(PassengerId='900', Pclass='3', Name='Abrahim, Mrs. Joseph (Sophie Halaut Easu)', Sex='female', Age='18', SibSp='0', Parch='0', Ticket='2657', Fare='7.2292', Cabin=None, Embarked='C')\n"
     ]
    }
   ],
   "source": [
    "records = filtered_data.take(10)\n",
    "for record in records:\n",
    "    if record:\n",
    "        print(record)"
   ]
  },
  {
   "cell_type": "code",
   "execution_count": 13,
   "metadata": {
    "collapsed": true
   },
   "outputs": [],
   "source": [
    "survivor_data_1 = survivor_data.map(lambda x: x[0])\n",
    "filtered_data_1 = actual_data_df.rdd.map(lambda x: (x[0], x)).join(survivor_data)"
   ]
  },
  {
   "cell_type": "code",
   "execution_count": 15,
   "metadata": {},
   "outputs": [
    {
     "name": "stdout",
     "output_type": "stream",
     "text": [
      "('900', (Row(PassengerId='900', Pclass='3', Name='Abrahim, Mrs. Joseph (Sophie Halaut Easu)', Sex='female', Age='18', SibSp='0', Parch='0', Ticket='2657', Fare='7.2292', Cabin=None, Embarked='C'), '1'))\n",
      "('912', (Row(PassengerId='912', Pclass='1', Name='Rothschild, Mr. Martin', Sex='male', Age='55', SibSp='1', Parch='0', Ticket='PC 17603', Fare='59.4', Cabin=None, Embarked='C'), '1'))\n",
      "('914', (Row(PassengerId='914', Pclass='1', Name='Flegenheim, Mrs. Alfred (Antoinette)', Sex='female', Age=None, SibSp='0', Parch='0', Ticket='PC 17598', Fare='31.6833', Cabin=None, Embarked='S'), '1'))\n",
      "('915', (Row(PassengerId='915', Pclass='1', Name='Williams, Mr. Richard Norris II', Sex='male', Age='21', SibSp='0', Parch='1', Ticket='PC 17597', Fare='61.3792', Cabin=None, Embarked='C'), '1'))\n",
      "('924', (Row(PassengerId='924', Pclass='3', Name='Dean, Mrs. Bertram (Eva Georgetta Light)', Sex='female', Age='33', SibSp='1', Parch='2', Ticket='C.A. 2315', Fare='20.575', Cabin=None, Embarked='S'), '1'))\n",
      "('925', (Row(PassengerId='925', Pclass='3', Name='\"Johnston, Mrs. Andrew G (Elizabeth Lily\"\" Watson)\"\"\"', Sex='female', Age=None, SibSp='1', Parch='2', Ticket='W./C. 6607', Fare='23.45', Cabin=None, Embarked='S'), '1'))\n",
      "('935', (Row(PassengerId='935', Pclass='2', Name='Corbett, Mrs. Walter H (Irene Colvin)', Sex='female', Age='30', SibSp='0', Parch='0', Ticket='237249', Fare='13', Cabin=None, Embarked='S'), '1'))\n",
      "('936', (Row(PassengerId='936', Pclass='1', Name='Kimball, Mrs. Edwin Nelson Jr (Gertrude Parsons)', Sex='female', Age='45', SibSp='1', Parch='0', Ticket='11753', Fare='52.5542', Cabin='D19', Embarked='S'), '1'))\n",
      "('945', (Row(PassengerId='945', Pclass='1', Name='Fortune, Miss. Ethel Flora', Sex='female', Age='28', SibSp='3', Parch='2', Ticket='19950', Fare='263', Cabin='C23 C25 C27', Embarked='S'), '1'))\n",
      "('947', (Row(PassengerId='947', Pclass='3', Name='Rice, Master. Albert', Sex='male', Age='10', SibSp='4', Parch='1', Ticket='382652', Fare='29.125', Cabin=None, Embarked='Q'), '1'))\n"
     ]
    }
   ],
   "source": [
    "records = filtered_data_1.take(10)\n",
    "for record in records:\n",
    "    print(record)"
   ]
  },
  {
   "cell_type": "code",
   "execution_count": 16,
   "metadata": {
    "collapsed": true
   },
   "outputs": [],
   "source": [
    "final_data = filtered_data_1.map(lambda x : x[1][0])"
   ]
  },
  {
   "cell_type": "code",
   "execution_count": null,
   "metadata": {
    "collapsed": true
   },
   "outputs": [],
   "source": [
    "# final_data_df =  final_data.toDF()"
   ]
  },
  {
   "cell_type": "code",
   "execution_count": null,
   "metadata": {
    "collapsed": true
   },
   "outputs": [],
   "source": [
    "final_data_df.printSchema()"
   ]
  },
  {
   "cell_type": "code",
   "execution_count": 17,
   "metadata": {
    "collapsed": true
   },
   "outputs": [],
   "source": [
    "db_schema = StructType([\n",
    "    StructField('PassengerId', StringType(), True),\n",
    "    StructField('Pclass', StringType(), True),\n",
    "    StructField('Name', StringType(), True),\n",
    "    StructField('Sex', StringType(), True),\n",
    "    StructField('Age', StringType(), True),\n",
    "    StructField('SibSp', StringType(), True),\n",
    "    StructField('Parch', StringType(), True),\n",
    "    StructField('Ticket', StringType(), True),\n",
    "    StructField('Fare', StringType(), True),\n",
    "    StructField('Cabin', StringType(), True),\n",
    "    StructField('Embarked', StringType(), True),\n",
    "])"
   ]
  },
  {
   "cell_type": "code",
   "execution_count": 18,
   "metadata": {
    "collapsed": true
   },
   "outputs": [],
   "source": [
    "final_data_df = sqlcontext.createDataFrame(final_data, db_schema)\n",
    "final_data_df.coalesce(1).write.csv('survivor_data_complete', sep=\",\", header=True)"
   ]
  },
  {
   "cell_type": "code",
   "execution_count": null,
   "metadata": {
    "collapsed": true
   },
   "outputs": [],
   "source": [
    "# Alernate to save the data as csv\n",
    "'''\n",
    "import csv\n",
    "\n",
    "records = final_data.collect()   \n",
    "with open('final_data.csv', 'w') as csv_file:\n",
    "    field_names = ['PassengerId', 'Pclass', 'Name', 'Sex', 'Age', 'SibSp', 'Parch', 'Ticket', 'Fare', 'Cabin', 'Embarked']\n",
    "    writer = csv.DictWriter(csv_file, fieldnames=field_names, delimiter=',')\n",
    "    writer.writeheader()\n",
    "    for row in records:\n",
    "        row_data = {}\n",
    "        for name in field_names:\n",
    "            row_data[name] = row[name]\n",
    "        writer.writerow(row_data)'''"
   ]
  },
  {
   "cell_type": "code",
   "execution_count": null,
   "metadata": {
    "collapsed": true
   },
   "outputs": [],
   "source": []
  }
 ],
 "metadata": {
  "kernelspec": {
   "display_name": "Python 3",
   "language": "python",
   "name": "python3"
  },
  "language_info": {
   "codemirror_mode": {
    "name": "ipython",
    "version": 3
   },
   "file_extension": ".py",
   "mimetype": "text/x-python",
   "name": "python",
   "nbconvert_exporter": "python",
   "pygments_lexer": "ipython3",
   "version": "3.6.1"
  }
 },
 "nbformat": 4,
 "nbformat_minor": 2
}
